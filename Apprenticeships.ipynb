{
  "nbformat": 4,
  "nbformat_minor": 0,
  "metadata": {
    "colab": {
      "name": "Apprenticeships.ipynb",
      "version": "0.3.2",
      "provenance": [],
      "collapsed_sections": [],
      "include_colab_link": true
    },
    "kernelspec": {
      "name": "python3",
      "display_name": "Python 3"
    }
  },
  "cells": [
    {
      "cell_type": "markdown",
      "metadata": {
        "id": "view-in-github",
        "colab_type": "text"
      },
      "source": [
        "<a href=\"https://colab.research.google.com/github/dringtech/apprenticeship-reporting/blob/master/Apprenticeships.ipynb\" target=\"_parent\"><img src=\"https://colab.research.google.com/assets/colab-badge.svg\" alt=\"Open In Colab\"/></a>"
      ]
    },
    {
      "cell_type": "markdown",
      "metadata": {
        "id": "CxqqrDdJcWyo",
        "colab_type": "text"
      },
      "source": [
        "Load some libraries"
      ]
    },
    {
      "cell_type": "code",
      "metadata": {
        "id": "P2mPkaxaKWec",
        "colab_type": "code",
        "colab": {}
      },
      "source": [
        "import pandas as pd\n",
        "from tabulate import tabulate\n",
        "from IPython.display import HTML, display\n",
        "import seaborn as sns"
      ],
      "execution_count": 0,
      "outputs": []
    },
    {
      "cell_type": "markdown",
      "metadata": {
        "id": "id0tpYrbc1pH",
        "colab_type": "text"
      },
      "source": [
        "The file is downloaded from the gov.uk publication, and stored locally in a zipped Parquet format."
      ]
    },
    {
      "cell_type": "code",
      "metadata": {
        "id": "aVfMi9XpMOI9",
        "colab_type": "code",
        "colab": {}
      },
      "source": [
        "source_spreadsheet = 'https://assets.publishing.service.gov.uk/government/uploads/system/uploads/attachment_data/file/789168/Apprenticeship-starts-ach-geography-tool_201718_Q2-201819_Mar2019.xlsx'\n",
        "apprenticeships_parquet = 'apprenticeships.parquet.gzip'"
      ],
      "execution_count": 0,
      "outputs": []
    },
    {
      "cell_type": "markdown",
      "metadata": {
        "id": "juosr1tVdBmF",
        "colab_type": "text"
      },
      "source": [
        "If the Parquet file exists, it's loaded, otherwise it's pulled from the Gov.uk site, stripped of totals and stored in the workspace."
      ]
    },
    {
      "cell_type": "code",
      "metadata": {
        "id": "dNQcmgydJ4Xb",
        "colab_type": "code",
        "colab": {}
      },
      "source": [
        "try:\n",
        "  data = pd.read_parquet(apprenticeships_parquet)\n",
        "except OSError:\n",
        "  data = pd.read_excel(source_spreadsheet, sheet_name='Base Data')\n",
        "  data = data[\n",
        "      (data.Level != 'Totals') &\n",
        "      (data['SSA T1'] != 'Totals') &\n",
        "      (data.Region != 'Totals') &\n",
        "      (data.PCON != 'Totals') &\n",
        "      (data.LA != 'Totals') &\n",
        "      (data.LAD != 'Totals') &\n",
        "      (data.Age != 'Totals')\n",
        "  ]\n",
        "  data.to_parquet(apprenticeships_parquet, compression='gzip')"
      ],
      "execution_count": 0,
      "outputs": []
    },
    {
      "cell_type": "markdown",
      "metadata": {
        "id": "kbhwS6C0dVW4",
        "colab_type": "text"
      },
      "source": [
        "The resulting dataframe is categorised in the dimensions listed below."
      ]
    },
    {
      "cell_type": "code",
      "metadata": {
        "id": "rh6V-pa1Z2s9",
        "colab_type": "code",
        "colab": {
          "base_uri": "https://localhost:8080/",
          "height": 204
        },
        "outputId": "bd93a92f-af72-4509-9fdb-e5b656bc22ce"
      },
      "source": [
        "list(data)"
      ],
      "execution_count": 89,
      "outputs": [
        {
          "output_type": "execute_result",
          "data": {
            "text/plain": [
              "['Level',\n",
              " 'SSA T1',\n",
              " 'Region',\n",
              " 'PCON',\n",
              " 'LA',\n",
              " 'LAD',\n",
              " 'Age',\n",
              " '1718_Starts',\n",
              " '1819_Q2_Starts',\n",
              " '1718_Achievements',\n",
              " '1819_Q2_Achievements']"
            ]
          },
          "metadata": {
            "tags": []
          },
          "execution_count": 89
        }
      ]
    },
    {
      "cell_type": "code",
      "metadata": {
        "id": "ZIvZ9_KPLS_w",
        "colab_type": "code",
        "colab": {
          "base_uri": "https://localhost:8080/",
          "height": 1000
        },
        "outputId": "53629268-fc53-4d4d-8581-18486a6c0c74"
      },
      "source": [
        "data[data.Region == 'Yorkshire and The Humber'].groupby(['LAD', 'Level'])['1718_Starts'].sum()"
      ],
      "execution_count": 118,
      "outputs": [
        {
          "output_type": "execute_result",
          "data": {
            "text/plain": [
              "LAD                       Level                      \n",
              "Barnsley                  Advanced Apprenticeship         700\n",
              "                          Higher Apprenticeship           240\n",
              "                          Intermediate Apprenticeship     780\n",
              "Bradford                  Advanced Apprenticeship        1550\n",
              "                          Higher Apprenticeship           310\n",
              "                          Intermediate Apprenticeship    2080\n",
              "Calderdale                Advanced Apprenticeship         880\n",
              "                          Higher Apprenticeship           170\n",
              "                          Intermediate Apprenticeship     740\n",
              "Craven                    Advanced Apprenticeship         190\n",
              "                          Higher Apprenticeship            30\n",
              "                          Intermediate Apprenticeship     150\n",
              "Doncaster                 Advanced Apprenticeship        1020\n",
              "                          Higher Apprenticeship           210\n",
              "                          Intermediate Apprenticeship    1180\n",
              "East Riding of Yorkshire  Advanced Apprenticeship        1200\n",
              "                          Higher Apprenticeship           200\n",
              "                          Intermediate Apprenticeship    2810\n",
              "Hambleton                 Advanced Apprenticeship         240\n",
              "                          Higher Apprenticeship            60\n",
              "                          Intermediate Apprenticeship     290\n",
              "Harrogate                 Advanced Apprenticeship         430\n",
              "                          Higher Apprenticeship            90\n",
              "                          Intermediate Apprenticeship     340\n",
              "Kingston upon Hull        Advanced Apprenticeship         990\n",
              "                          Higher Apprenticeship           160\n",
              "                          Intermediate Apprenticeship    1180\n",
              "Kirklees                  Advanced Apprenticeship        1410\n",
              "                          Higher Apprenticeship           360\n",
              "                          Intermediate Apprenticeship    1270\n",
              "                                                         ... \n",
              "North East Lincolnshire   Advanced Apprenticeship         580\n",
              "                          Higher Apprenticeship           110\n",
              "                          Intermediate Apprenticeship     520\n",
              "North Lincolnshire        Advanced Apprenticeship         600\n",
              "                          Higher Apprenticeship           180\n",
              "                          Intermediate Apprenticeship     720\n",
              "Richmondshire             Advanced Apprenticeship         130\n",
              "                          Higher Apprenticeship            30\n",
              "                          Intermediate Apprenticeship    3050\n",
              "Rotherham                 Advanced Apprenticeship         890\n",
              "                          Higher Apprenticeship           230\n",
              "                          Intermediate Apprenticeship     830\n",
              "Ryedale                   Advanced Apprenticeship         120\n",
              "                          Higher Apprenticeship            10\n",
              "                          Intermediate Apprenticeship     120\n",
              "Scarborough               Advanced Apprenticeship         310\n",
              "                          Higher Apprenticeship            70\n",
              "                          Intermediate Apprenticeship     340\n",
              "Selby                     Advanced Apprenticeship         300\n",
              "                          Higher Apprenticeship            80\n",
              "                          Intermediate Apprenticeship     250\n",
              "Sheffield                 Advanced Apprenticeship        1610\n",
              "                          Higher Apprenticeship           380\n",
              "                          Intermediate Apprenticeship    1550\n",
              "Wakefield                 Advanced Apprenticeship        1380\n",
              "                          Higher Apprenticeship           270\n",
              "                          Intermediate Apprenticeship    1110\n",
              "York                      Advanced Apprenticeship         570\n",
              "                          Higher Apprenticeship           100\n",
              "                          Intermediate Apprenticeship     450\n",
              "Name: 1718_Starts, Length: 63, dtype: int64"
            ]
          },
          "metadata": {
            "tags": []
          },
          "execution_count": 118
        }
      ]
    },
    {
      "cell_type": "code",
      "metadata": {
        "id": "pm1CLe1Dl-HP",
        "colab_type": "code",
        "colab": {
          "base_uri": "https://localhost:8080/",
          "height": 386
        },
        "outputId": "ba4e8f80-5e57-4b11-a1d0-43b038af8c99"
      },
      "source": [
        "sns.catplot(data=data[data.Region == 'Yorkshire and The Humber'], x='LAD', y='1718_Starts')"
      ],
      "execution_count": 119,
      "outputs": [
        {
          "output_type": "execute_result",
          "data": {
            "text/plain": [
              "<seaborn.axisgrid.FacetGrid at 0x7fab6a492470>"
            ]
          },
          "metadata": {
            "tags": []
          },
          "execution_count": 119
        },
        {
          "output_type": "display_data",
          "data": {
            "image/png": "[encoded data removed]",
            "text/plain": [
              "<Figure size 360x360 with 1 Axes>"
            ]
          },
          "metadata": {
            "tags": []
          }
        }
      ]
    }
  ]
}