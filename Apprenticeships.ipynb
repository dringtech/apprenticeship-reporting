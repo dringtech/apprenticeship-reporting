{
  "nbformat": 4,
  "nbformat_minor": 0,
  "metadata": {
    "colab": {
      "name": "Apprenticeships.ipynb",
      "version": "0.3.2",
      "provenance": [],
      "collapsed_sections": [],
      "include_colab_link": true
    },
    "kernelspec": {
      "name": "python3",
      "display_name": "Python 3"
    }
  },
  "cells": [
    {
      "cell_type": "markdown",
      "metadata": {
        "id": "view-in-github",
        "colab_type": "text"
      },
      "source": [
        "<a href=\"https://colab.research.google.com/github/dringtech/apprenticeship-reporting/blob/master/Apprenticeships.ipynb\" target=\"_parent\"><img src=\"https://colab.research.google.com/assets/colab-badge.svg\" alt=\"Open In Colab\"/></a>"
      ]
    },
    {
      "cell_type": "markdown",
      "metadata": {
        "id": "CxqqrDdJcWyo",
        "colab_type": "text"
      },
      "source": [
        "Load some libraries"
      ]
    },
    {
      "cell_type": "code",
      "metadata": {
        "id": "P2mPkaxaKWec",
        "colab_type": "code",
        "colab": {}
      },
      "source": [
        "import pandas as pd\n",
        "from tabulate import tabulate\n",
        "from IPython.display import HTML, display"
      ],
      "execution_count": 0,
      "outputs": []
    },
    {
      "cell_type": "markdown",
      "metadata": {
        "id": "id0tpYrbc1pH",
        "colab_type": "text"
      },
      "source": [
        "The file is downloaded from the gov.uk publication, and stored locally in a zipped Parquet format."
      ]
    },
    {
      "cell_type": "code",
      "metadata": {
        "id": "aVfMi9XpMOI9",
        "colab_type": "code",
        "colab": {}
      },
      "source": [
        "source_spreadsheet = 'https://assets.publishing.service.gov.uk/government/uploads/system/uploads/attachment_data/file/789168/Apprenticeship-starts-ach-geography-tool_201718_Q2-201819_Mar2019.xlsx'\n",
        "apprenticeships_parquet = 'apprenticeships.parquet.gzip'"
      ],
      "execution_count": 0,
      "outputs": []
    },
    {
      "cell_type": "markdown",
      "metadata": {
        "id": "juosr1tVdBmF",
        "colab_type": "text"
      },
      "source": [
        "If the Parquet file exists, it's loaded, otherwise it's pulled from the Gov.uk site, stripped of totals and stored in the workspace."
      ]
    },
    {
      "cell_type": "code",
      "metadata": {
        "id": "dNQcmgydJ4Xb",
        "colab_type": "code",
        "colab": {}
      },
      "source": [
        "try:\n",
        "  data = pd.read_parquet(apprenticeships_parquet)\n",
        "except OSError:\n",
        "  data = pd.read_excel(source_spreadsheet, sheet_name='Base Data')\n",
        "  data = data[(data.Age != 'Totals') & (data.LAD != 'Totals') & (data.LA != 'Totals') & (data.PCON != 'Totals') & (data.Level != 'Totals') & (data['SSA T1'] != 'Totals')]\n",
        "  data.to_parquet(apprenticeships_parquet, compression='gzip')"
      ],
      "execution_count": 0,
      "outputs": []
    },
    {
      "cell_type": "markdown",
      "metadata": {
        "id": "kbhwS6C0dVW4",
        "colab_type": "text"
      },
      "source": [
        "The resulting dataframe is categorised in the dimensions listed below."
      ]
    },
    {
      "cell_type": "code",
      "metadata": {
        "id": "rh6V-pa1Z2s9",
        "colab_type": "code",
        "colab": {
          "base_uri": "https://localhost:8080/",
          "height": 204
        },
        "outputId": "574c9e2c-88ea-49d9-9aaf-2f4827e6fe26"
      },
      "source": [
        "list(data)"
      ],
      "execution_count": 84,
      "outputs": [
        {
          "output_type": "execute_result",
          "data": {
            "text/plain": [
              "['Level',\n",
              " 'SSA T1',\n",
              " 'Region',\n",
              " 'PCON',\n",
              " 'LA',\n",
              " 'LAD',\n",
              " 'Age',\n",
              " '1718_Starts',\n",
              " '1819_Q2_Starts',\n",
              " '1718_Achievements',\n",
              " '1819_Q2_Achievements']"
            ]
          },
          "metadata": {
            "tags": []
          },
          "execution_count": 84
        }
      ]
    },
    {
      "cell_type": "code",
      "metadata": {
        "id": "ZIvZ9_KPLS_w",
        "colab_type": "code",
        "colab": {
          "base_uri": "https://localhost:8080/",
          "height": 238
        },
        "outputId": "f9c5e30e-49ab-4b5b-b783-167d7c7ca5fa"
      },
      "source": [
        "data.groupby('Region')['1718_Starts'].sum()"
      ],
      "execution_count": 86,
      "outputs": [
        {
          "output_type": "execute_result",
          "data": {
            "text/plain": [
              "Region\n",
              "East Midlands                31770\n",
              "East of England              34390\n",
              "London                       35150\n",
              "North East                   21860\n",
              "North West                   56180\n",
              "Other                         4560\n",
              "South East                   49300\n",
              "South West                   42200\n",
              "Totals                      360150\n",
              "West Midlands                41110\n",
              "Yorkshire and The Humber     43630\n",
              "Name: 1718_Starts, dtype: int64"
            ]
          },
          "metadata": {
            "tags": []
          },
          "execution_count": 86
        }
      ]
    }
  ]
}